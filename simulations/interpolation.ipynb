{
 "cells": [
  {
   "cell_type": "code",
   "execution_count": 28,
   "id": "organic-thought",
   "metadata": {},
   "outputs": [],
   "source": [
    "from scipy.interpolate import interp1d\n",
    "import plotly.express as px\n",
    "import numpy as np\n",
    "import pandas as pd"
   ]
  },
  {
   "cell_type": "code",
   "execution_count": 70,
   "id": "honest-subject",
   "metadata": {},
   "outputs": [],
   "source": [
    "x = range(5, 171)\n",
    "y = df.x\n",
    "f = interp1d(x, y)\n",
    "f2 = interp1d(x, y, kind='cubic')"
   ]
  },
  {
   "cell_type": "code",
   "execution_count": 71,
   "id": "forbidden-prophet",
   "metadata": {},
   "outputs": [
    {
     "ename": "TypeError",
     "evalue": "unsupported operand type(s) for ** or pow(): 'float' and 'range'",
     "output_type": "error",
     "traceback": [
      "\u001b[1;31m---------------------------------------------------------------------------\u001b[0m",
      "\u001b[1;31mTypeError\u001b[0m                                 Traceback (most recent call last)",
      "\u001b[1;32m<ipython-input-71-27b47b5b9a17>\u001b[0m in \u001b[0;36m<module>\u001b[1;34m\u001b[0m\n\u001b[0;32m      1\u001b[0m \u001b[0mxnew\u001b[0m \u001b[1;33m=\u001b[0m \u001b[0mrange\u001b[0m\u001b[1;33m(\u001b[0m\u001b[1;36m5\u001b[0m\u001b[1;33m,\u001b[0m \u001b[1;36m171\u001b[0m\u001b[1;33m)\u001b[0m\u001b[1;33m\u001b[0m\u001b[1;33m\u001b[0m\u001b[0m\n\u001b[1;32m----> 2\u001b[1;33m \u001b[0mfig\u001b[0m \u001b[1;33m=\u001b[0m \u001b[0mpx\u001b[0m\u001b[1;33m.\u001b[0m\u001b[0mline\u001b[0m\u001b[1;33m(\u001b[0m\u001b[0mx\u001b[0m\u001b[1;33m,\u001b[0m\u001b[1;33m[\u001b[0m\u001b[0my\u001b[0m\u001b[1;33m,\u001b[0m\u001b[1;33m(\u001b[0m\u001b[1;36m1.95\u001b[0m\u001b[1;33m**\u001b[0m\u001b[0mx\u001b[0m\u001b[1;33m+\u001b[0m\u001b[1;36m107.5\u001b[0m\u001b[1;33m)\u001b[0m\u001b[1;33m]\u001b[0m\u001b[1;33m)\u001b[0m\u001b[1;33m\u001b[0m\u001b[1;33m\u001b[0m\u001b[0m\n\u001b[0m\u001b[0;32m      3\u001b[0m \u001b[0mfig\u001b[0m\u001b[1;33m.\u001b[0m\u001b[0mshow\u001b[0m\u001b[1;33m(\u001b[0m\u001b[1;33m)\u001b[0m\u001b[1;33m\u001b[0m\u001b[1;33m\u001b[0m\u001b[0m\n",
      "\u001b[1;31mTypeError\u001b[0m: unsupported operand type(s) for ** or pow(): 'float' and 'range'"
     ]
    }
   ],
   "source": [
    "xnew = range(5, 171)\n",
    "fig = px.line(x,[y,(1.95**x+107.5)])\n",
    "fig.show()"
   ]
  },
  {
   "cell_type": "code",
   "execution_count": 12,
   "id": "prescribed-mathematics",
   "metadata": {},
   "outputs": [],
   "source": [
    "df = pd.read_csv ('val.csv')"
   ]
  },
  {
   "cell_type": "code",
   "execution_count": 57,
   "id": "exceptional-communist",
   "metadata": {},
   "outputs": [
    {
     "ename": "TypeError",
     "evalue": "can't multiply sequence by non-int of type 'float'",
     "output_type": "error",
     "traceback": [
      "\u001b[1;31m---------------------------------------------------------------------------\u001b[0m",
      "\u001b[1;31mTypeError\u001b[0m                                 Traceback (most recent call last)",
      "\u001b[1;32m<ipython-input-57-a740dea4d5b4>\u001b[0m in \u001b[0;36m<module>\u001b[1;34m\u001b[0m\n\u001b[1;32m----> 1\u001b[1;33m \u001b[0mround\u001b[0m\u001b[1;33m(\u001b[0m\u001b[1;36m1.95\u001b[0m\u001b[1;33m*\u001b[0m\u001b[0mx\u001b[0m\u001b[1;33m+\u001b[0m\u001b[1;36m107.5\u001b[0m\u001b[1;33m)\u001b[0m\u001b[1;33m\u001b[0m\u001b[1;33m\u001b[0m\u001b[0m\n\u001b[0m",
      "\u001b[1;31mTypeError\u001b[0m: can't multiply sequence by non-int of type 'float'"
     ]
    }
   ],
   "source": [
    "round(1.95*x+107.5)"
   ]
  },
  {
   "cell_type": "code",
   "execution_count": 15,
   "id": "opposite-granny",
   "metadata": {},
   "outputs": [],
   "source": [
    "x = np.linspace(5, 170, num=11, endpoint=True)"
   ]
  },
  {
   "cell_type": "code",
   "execution_count": 68,
   "id": "helpful-challenge",
   "metadata": {},
   "outputs": [
    {
     "data": {
      "text/plain": [
       "array([117, 119, 121, 124, 126, 128, 130, 133, 134, 137, 139, 141, 143,\n",
       "       145, 148, 150, 152, 153, 156, 158, 160, 162, 164, 166, 168, 170,\n",
       "       172, 175, 177, 178, 180, 183, 184, 187, 188, 192, 193, 195, 197,\n",
       "       199, 201, 204, 206, 208, 209, 211, 213, 215, 217, 219, 221, 223,\n",
       "       226, 227, 229, 232, 234, 236, 237, 239, 241, 243, 245, 247, 249,\n",
       "       251, 253, 255, 257, 259, 261, 261, 266, 266, 268, 271, 272, 275,\n",
       "       276, 278, 280, 282, 284, 287, 288, 290, 291, 294, 295, 297, 299,\n",
       "       301, 303, 306, 307, 309, 311, 313, 315, 317, 318, 320, 322, 325,\n",
       "       326, 328, 329, 331, 333, 335, 337, 339, 341, 343, 345, 346, 348,\n",
       "       350, 353, 354, 356, 357, 359, 361, 363, 365, 367, 368, 370, 372,\n",
       "       373, 376, 377, 380, 381, 383, 385, 387, 389, 391, 393, 394, 396,\n",
       "       398, 400, 402, 403, 404, 408, 409, 411, 413, 414, 416, 418, 420,\n",
       "       421, 422, 425, 427, 428, 430, 432, 434, 435, 437], dtype=int64)"
      ]
     },
     "execution_count": 68,
     "metadata": {},
     "output_type": "execute_result"
    }
   ],
   "source": []
  },
  {
   "cell_type": "code",
   "execution_count": null,
   "id": "completed-atlantic",
   "metadata": {},
   "outputs": [],
   "source": []
  }
 ],
 "metadata": {
  "kernelspec": {
   "display_name": "Python 3",
   "language": "python",
   "name": "python3"
  },
  "language_info": {
   "codemirror_mode": {
    "name": "ipython",
    "version": 3
   },
   "file_extension": ".py",
   "mimetype": "text/x-python",
   "name": "python",
   "nbconvert_exporter": "python",
   "pygments_lexer": "ipython3",
   "version": "3.8.5"
  }
 },
 "nbformat": 4,
 "nbformat_minor": 5
}
